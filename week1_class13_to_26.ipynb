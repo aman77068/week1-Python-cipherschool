{
  "nbformat": 4,
  "nbformat_minor": 0,
  "metadata": {
    "colab": {
      "provenance": [],
      "authorship_tag": "ABX9TyMziI4AwRTQPhx2yyk7vv/d",
      "include_colab_link": true
    },
    "kernelspec": {
      "name": "python3",
      "display_name": "Python 3"
    },
    "language_info": {
      "name": "python"
    }
  },
  "cells": [
    {
      "cell_type": "markdown",
      "metadata": {
        "id": "view-in-github",
        "colab_type": "text"
      },
      "source": [
        "<a href=\"https://colab.research.google.com/github/aman77068/week1-Python-cipherschool/blob/main/week1_class13_to_26.ipynb\" target=\"_parent\"><img src=\"https://colab.research.google.com/assets/colab-badge.svg\" alt=\"Open In Colab\"/></a>"
      ]
    },
    {
      "cell_type": "code",
      "execution_count": 25,
      "metadata": {
        "id": "0bW28odZuY91"
      },
      "outputs": [],
      "source": []
    },
    {
      "cell_type": "code",
      "source": [
        "print(r\"a\\nb\") #to treat escape sequences as normal text"
      ],
      "metadata": {
        "colab": {
          "base_uri": "https://localhost:8080/"
        },
        "id": "bUWqJLZXyNvk",
        "outputId": "96973101-2549-4c35-cdb4-4caa1a699ee2"
      },
      "execution_count": 8,
      "outputs": [
        {
          "output_type": "stream",
          "name": "stdout",
          "text": [
            "a\\nb\n"
          ]
        }
      ]
    },
    {
      "cell_type": "code",
      "source": [
        "print(4/2) #float division (otcome in decimal ie.2.0)\n",
        "print(4//2) #integeral division(outcome comes as 2)\n",
        "\n",
        "#String=collection of characters inside single quote or double quote\n",
        "\n",
        "#user input output comes in string\n",
        "a=input(\"type your name\")\n",
        "print(a)\n",
        "\n",
        "#to change string in integer use int(string)\n",
        "#to declare multiple variable in one line\n",
        "name, age= \"Aman\", \"24\"\n",
        "print(\"hello \" + name + \" your age \" + age)\n",
        "\n",
        "#two or more input in one line\n",
        "name, age = input(\"enter your name and age\").split(\" \")\n",
        "print(name)\n",
        "print(age)\n",
        "\n",
        "#string formatting\n",
        "name=\"aman\"\n",
        "age=20\n",
        "print(\"hello {} your age is {}\".format(name, age)) #for python3"
      ],
      "metadata": {
        "colab": {
          "base_uri": "https://localhost:8080/"
        },
        "id": "naV3HySOzHuO",
        "outputId": "1fdda4bc-496f-4181-d328-5ba08c3698bc"
      },
      "execution_count": 25,
      "outputs": [
        {
          "output_type": "stream",
          "name": "stdout",
          "text": [
            "2.0\n",
            "2\n",
            "type your nameaman\n",
            "aman\n",
            "hello Aman your age 24\n",
            "enter your name and ageaman 20\n",
            "aman\n",
            "20\n",
            "hello aman your age is 20\n"
          ]
        }
      ]
    }
  ]
}