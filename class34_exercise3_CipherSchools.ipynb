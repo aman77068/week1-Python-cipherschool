{
  "nbformat": 4,
  "nbformat_minor": 0,
  "metadata": {
    "colab": {
      "provenance": [],
      "authorship_tag": "ABX9TyOrmD/wduw1vIv9oPxbSpzD",
      "include_colab_link": true
    },
    "kernelspec": {
      "name": "python3",
      "display_name": "Python 3"
    },
    "language_info": {
      "name": "python"
    }
  },
  "cells": [
    {
      "cell_type": "markdown",
      "metadata": {
        "id": "view-in-github",
        "colab_type": "text"
      },
      "source": [
        "<a href=\"https://colab.research.google.com/github/aman77068/week1-Python-cipherschool/blob/main/class34_exercise3_CipherSchools.ipynb\" target=\"_parent\"><img src=\"https://colab.research.google.com/assets/colab-badge.svg\" alt=\"Open In Colab\"/></a>"
      ]
    },
    {
      "cell_type": "code",
      "source": [
        "name,char=input(\"enter comma seperated name and  character:\").split(\",\")\n",
        "print(f\"length of your name is {len(name)}\")\n",
        "print(f\"character count:{name.lower().count(char.lower())}\")#case sensitive\n",
        "#input must be of type(aman,a)"
      ],
      "metadata": {
        "colab": {
          "base_uri": "https://localhost:8080/"
        },
        "id": "I5C2R0zDYZVx",
        "outputId": "78a0364c-0065-4bba-af80-acf8c40f706f"
      },
      "execution_count": 32,
      "outputs": [
        {
          "output_type": "stream",
          "name": "stdout",
          "text": [
            "enter comma seperated name and  character:abhiraj,a\n",
            "length of your name is 7\n",
            "character count:2\n"
          ]
        }
      ]
    }
  ]
}