{
  "nbformat": 4,
  "nbformat_minor": 0,
  "metadata": {
    "colab": {
      "provenance": [],
      "authorship_tag": "ABX9TyPg4BPGPPs3Ke0lMKKOXPl6",
      "include_colab_link": true
    },
    "kernelspec": {
      "name": "python3",
      "display_name": "Python 3"
    },
    "language_info": {
      "name": "python"
    }
  },
  "cells": [
    {
      "cell_type": "markdown",
      "metadata": {
        "id": "view-in-github",
        "colab_type": "text"
      },
      "source": [
        "<a href=\"https://colab.research.google.com/github/aman77068/week1-Python-cipherschool/blob/main/class29_slicing_CipherSchools.ipynb\" target=\"_parent\"><img src=\"https://colab.research.google.com/assets/colab-badge.svg\" alt=\"Open In Colab\"/></a>"
      ]
    },
    {
      "cell_type": "code",
      "execution_count": 1,
      "metadata": {
        "colab": {
          "base_uri": "https://localhost:8080/"
        },
        "id": "x9Q3xbe8lpAg",
        "outputId": "cba11915-fa96-4280-bef9-d6a0b18c16d7"
      },
      "outputs": [
        {
          "output_type": "stream",
          "name": "stdout",
          "text": [
            "hon\n"
          ]
        }
      ],
      "source": [
        "#slicing / selecting subquences\n",
        "lang=\"Python\"\n",
        "#print(lang[start argument : stop argument -1])\n",
        "print(lang[3:6])"
      ]
    }
  ]
}