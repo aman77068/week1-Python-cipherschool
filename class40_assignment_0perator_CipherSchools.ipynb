{
  "nbformat": 4,
  "nbformat_minor": 0,
  "metadata": {
    "colab": {
      "provenance": [],
      "authorship_tag": "ABX9TyNytMvhURZaGlyuSLhw56cn",
      "include_colab_link": true
    },
    "kernelspec": {
      "name": "python3",
      "display_name": "Python 3"
    },
    "language_info": {
      "name": "python"
    }
  },
  "cells": [
    {
      "cell_type": "markdown",
      "metadata": {
        "id": "view-in-github",
        "colab_type": "text"
      },
      "source": [
        "<a href=\"https://colab.research.google.com/github/aman77068/week1-Python-cipherschool/blob/main/class40_assignment_0perator_CipherSchools.ipynb\" target=\"_parent\"><img src=\"https://colab.research.google.com/assets/colab-badge.svg\" alt=\"Open In Colab\"/></a>"
      ]
    },
    {
      "cell_type": "code",
      "execution_count": 9,
      "metadata": {
        "colab": {
          "base_uri": "https://localhost:8080/"
        },
        "id": "t_yyT2bLkja8",
        "outputId": "b6f49b5c-020d-495a-cab2-5791c579591d"
      },
      "outputs": [
        {
          "output_type": "stream",
          "name": "stdout",
          "text": [
            "harshit\n",
            "24\n"
          ]
        }
      ],
      "source": [
        "name= \"harsh\"\n",
        "#name =name +\"it\" or\n",
        "name += \"it\"\n",
        "print(name)\n",
        " \n",
        "age = 23 \n",
        "age +=1\n",
        "print(age)\n",
        "\n",
        "\n"
      ]
    },
    {
      "cell_type": "code",
      "source": [],
      "metadata": {
        "id": "05iuIKbltupE"
      },
      "execution_count": null,
      "outputs": []
    },
    {
      "cell_type": "code",
      "source": [],
      "metadata": {
        "id": "0nEOzz2zpjeN"
      },
      "execution_count": 5,
      "outputs": []
    }
  ]
}