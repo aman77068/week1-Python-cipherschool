{
  "nbformat": 4,
  "nbformat_minor": 0,
  "metadata": {
    "colab": {
      "provenance": [],
      "authorship_tag": "ABX9TyNBDfcS+Rm+ejjng1RiKUF9",
      "include_colab_link": true
    },
    "kernelspec": {
      "name": "python3",
      "display_name": "Python 3"
    },
    "language_info": {
      "name": "python"
    }
  },
  "cells": [
    {
      "cell_type": "markdown",
      "metadata": {
        "id": "view-in-github",
        "colab_type": "text"
      },
      "source": [
        "<a href=\"https://colab.research.google.com/github/aman77068/week1-Python-cipherschool/blob/main/class33_string_methods_CipherSchools.ipynb\" target=\"_parent\"><img src=\"https://colab.research.google.com/assets/colab-badge.svg\" alt=\"Open In Colab\"/></a>"
      ]
    },
    {
      "cell_type": "code",
      "execution_count": 18,
      "metadata": {
        "colab": {
          "base_uri": "https://localhost:8080/"
        },
        "id": "1jIDHBZKOd_b",
        "outputId": "22ef94a9-d5ae-4f3f-c624-84874f7344dd"
      },
      "outputs": [
        {
          "output_type": "stream",
          "name": "stdout",
          "text": [
            "4\n",
            "aman\n",
            "AMAN\n",
            "Abhiraj\n",
            "3\n",
            "1\n"
          ]
        }
      ],
      "source": [
        "#string methods part 1\n",
        "#using len function i can count no. of characters including spaces also\n",
        "#len(string)\n",
        "a=\"Aman\"\n",
        "b=len(a)\n",
        "print(b)\n",
        "\n",
        "#lower()method\n",
        "#changes all chracters into small letters\n",
        "#syntax  print(string.lower()) \n",
        "print(a.lower())\n",
        "\n",
        "#upper()method\n",
        "#changes all character in capital letters\n",
        "print(a.upper())\n",
        "\n",
        "#title()method\n",
        "#makes all characters small except 1st character (makes 1st letter capital)\n",
        "b=\"aBHiraJ\"\n",
        "print(b.title())\n",
        "\n",
        "#count()method\n",
        "#use to conunt the repeattition of a character\n",
        "c=\"May comein mam\"\n",
        "print(c.count(\"m\"))\n",
        "print(c.count(\"M\"))"
      ]
    }
  ]
}