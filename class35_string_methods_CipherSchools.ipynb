{
  "nbformat": 4,
  "nbformat_minor": 0,
  "metadata": {
    "colab": {
      "provenance": [],
      "authorship_tag": "ABX9TyNhV2NaUJpXxYQp4gs7QITn",
      "include_colab_link": true
    },
    "kernelspec": {
      "name": "python3",
      "display_name": "Python 3"
    },
    "language_info": {
      "name": "python"
    }
  },
  "cells": [
    {
      "cell_type": "markdown",
      "metadata": {
        "id": "view-in-github",
        "colab_type": "text"
      },
      "source": [
        "<a href=\"https://colab.research.google.com/github/aman77068/week1-Python-cipherschool/blob/main/class35_string_methods_CipherSchools.ipynb\" target=\"_parent\"><img src=\"https://colab.research.google.com/assets/colab-badge.svg\" alt=\"Open In Colab\"/></a>"
      ]
    },
    {
      "cell_type": "code",
      "source": [
        "#to remove spaces\n",
        "name = \"     Aman     \"\n",
        "dots= \"..........\"\n",
        "print(name+dots)#space comes before and after name\n",
        "\n",
        "#to remove left space use \"lstrip()\"\n",
        "print(name.lstrip()+dots)\n",
        "\n",
        "#to remove right spaces use \"rstrip()\"\n",
        "print(name.rstrip()+dots)\n",
        "\n",
        "#to remove both side spaces use \"strip()\"\n",
        "print(name.strip()+dots)  \n",
        "name2= \"    Am    an    \"\n",
        "\n",
        "#to remove all spaces present in it use   replace(\" \",\"\") \n",
        "# there must be space between first double cores\n",
        "\n",
        "print(name2.replace(\" \",\"\"))"
      ],
      "metadata": {
        "colab": {
          "base_uri": "https://localhost:8080/"
        },
        "id": "I5C2R0zDYZVx",
        "outputId": "aafcdf56-51cc-44d0-9060-151e138809aa"
      },
      "execution_count": 42,
      "outputs": [
        {
          "output_type": "stream",
          "name": "stdout",
          "text": [
            "     Aman     ..........\n",
            "Aman     ..........\n",
            "     Aman..........\n",
            "Aman..........\n",
            "Aman\n"
          ]
        }
      ]
    }
  ]
}