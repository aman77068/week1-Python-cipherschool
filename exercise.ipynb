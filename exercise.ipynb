{
  "nbformat": 4,
  "nbformat_minor": 0,
  "metadata": {
    "colab": {
      "provenance": [],
      "authorship_tag": "ABX9TyMtVa9Ubbkhl33D9hrApByi",
      "include_colab_link": true
    },
    "kernelspec": {
      "name": "python3",
      "display_name": "Python 3"
    },
    "language_info": {
      "name": "python"
    }
  },
  "cells": [
    {
      "cell_type": "markdown",
      "metadata": {
        "id": "view-in-github",
        "colab_type": "text"
      },
      "source": [
        "<a href=\"https://colab.research.google.com/github/aman77068/week1-Python-cipherschool/blob/main/exercise.ipynb\" target=\"_parent\"><img src=\"https://colab.research.google.com/assets/colab-badge.svg\" alt=\"Open In Colab\"/></a>"
      ]
    },
    {
      "cell_type": "code",
      "execution_count": 19,
      "metadata": {
        "colab": {
          "base_uri": "https://localhost:8080/"
        },
        "id": "GToaWRN--P3p",
        "outputId": "6c407587-b483-4f49-a40c-2b162c1ce3f9"
      },
      "outputs": [
        {
          "output_type": "stream",
          "name": "stdout",
          "text": [
            "number one1\n",
            "number two10\n",
            "number three4\n",
            "average of three numbers 5.0\n"
          ]
        }
      ],
      "source": [
        "a= int(input(\"number one\"))\n",
        "b= int(input(\"number two\"))\n",
        "c= int(input(\"number three\"))\n",
        "print(f\"average of three numbers {(a+b+c)/3}\")\n",
        "\n"
      ]
    }
  ]
}