{
  "nbformat": 4,
  "nbformat_minor": 0,
  "metadata": {
    "colab": {
      "provenance": [],
      "authorship_tag": "ABX9TyOsUkwn+VCM8bSnnngXdray",
      "include_colab_link": true
    },
    "kernelspec": {
      "name": "python3",
      "display_name": "Python 3"
    },
    "language_info": {
      "name": "python"
    }
  },
  "cells": [
    {
      "cell_type": "markdown",
      "metadata": {
        "id": "view-in-github",
        "colab_type": "text"
      },
      "source": [
        "<a href=\"https://colab.research.google.com/github/aman77068/week1-Python-cipherschool/blob/main/class38_centre_method_CipherSchools.ipynb\" target=\"_parent\"><img src=\"https://colab.research.google.com/assets/colab-badge.svg\" alt=\"Open In Colab\"/></a>"
      ]
    },
    {
      "cell_type": "code",
      "execution_count": 4,
      "metadata": {
        "colab": {
          "base_uri": "https://localhost:8080/"
        },
        "id": "t_yyT2bLkja8",
        "outputId": "fdc2dcb4-f2ed-4e7e-c7a2-2971fbfdbd7b"
      },
      "outputs": [
        {
          "output_type": "stream",
          "name": "stdout",
          "text": [
            "*harshit*\n"
          ]
        }
      ],
      "source": [
        "#centre method\n",
        "name = \"harshit\"\n",
        "print(name.center(9,\"*\"))\n",
        "\n",
        "\n",
        "\n"
      ]
    },
    {
      "cell_type": "code",
      "source": [
        "name= input(\"enter your name\")\n",
        "print(name.center(len(name)+8,\"*\"))  # to add 8 stars 4 on both sides"
      ],
      "metadata": {
        "id": "0nEOzz2zpjeN",
        "outputId": "4fd1842f-7f3e-44c1-dbeb-84a91d419010",
        "colab": {
          "base_uri": "https://localhost:8080/"
        }
      },
      "execution_count": 5,
      "outputs": [
        {
          "output_type": "stream",
          "name": "stdout",
          "text": [
            "enter your nameabhishek\n",
            "****abhishek****\n"
          ]
        }
      ]
    }
  ]
}