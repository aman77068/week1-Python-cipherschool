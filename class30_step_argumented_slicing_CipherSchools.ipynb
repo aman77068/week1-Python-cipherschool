{
  "nbformat": 4,
  "nbformat_minor": 0,
  "metadata": {
    "colab": {
      "provenance": [],
      "authorship_tag": "ABX9TyNa626L/hgtIAYHudbN8Nix",
      "include_colab_link": true
    },
    "kernelspec": {
      "name": "python3",
      "display_name": "Python 3"
    },
    "language_info": {
      "name": "python"
    }
  },
  "cells": [
    {
      "cell_type": "markdown",
      "metadata": {
        "id": "view-in-github",
        "colab_type": "text"
      },
      "source": [
        "<a href=\"https://colab.research.google.com/github/aman77068/week1-Python-cipherschool/blob/main/class30_step_argumented_slicing_CipherSchools.ipynb\" target=\"_parent\"><img src=\"https://colab.research.google.com/assets/colab-badge.svg\" alt=\"Open In Colab\"/></a>"
      ]
    },
    {
      "cell_type": "code",
      "execution_count": 5,
      "metadata": {
        "colab": {
          "base_uri": "https://localhost:8080/"
        },
        "id": "x9Q3xbe8lpAg",
        "outputId": "168bba4d-eebc-48d4-9bf8-53c83321ddb9"
      },
      "outputs": [
        {
          "output_type": "stream",
          "name": "stdout",
          "text": [
            "Ahse\n"
          ]
        }
      ],
      "source": [
        "#step argumented slicing\n",
        "#syntax print(\"string\"[start argument:stop argument-1:step])  step means har wo term eliminate ho jayega\n",
        "print(\"Abhishek\"[0:8:2]) \n",
        "#i.e har second term eliminate ho gya hai"
      ]
    },
    {
      "cell_type": "code",
      "source": [
        "print(\"Abhishek\"[0::3])"
      ],
      "metadata": {
        "colab": {
          "base_uri": "https://localhost:8080/"
        },
        "id": "XCzKIhDt3sIc",
        "outputId": "791537bb-449d-48d9-eb4b-f1163f0c0bd7"
      },
      "execution_count": 7,
      "outputs": [
        {
          "output_type": "stream",
          "name": "stdout",
          "text": [
            "Aie\n"
          ]
        }
      ]
    }
  ]
}