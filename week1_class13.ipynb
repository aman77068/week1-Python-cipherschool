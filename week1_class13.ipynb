{
  "nbformat": 4,
  "nbformat_minor": 0,
  "metadata": {
    "colab": {
      "provenance": [],
      "authorship_tag": "ABX9TyN8Mps6Sw7iW3eHJFbaJbQ9",
      "include_colab_link": true
    },
    "kernelspec": {
      "name": "python3",
      "display_name": "Python 3"
    },
    "language_info": {
      "name": "python"
    }
  },
  "cells": [
    {
      "cell_type": "markdown",
      "metadata": {
        "id": "view-in-github",
        "colab_type": "text"
      },
      "source": [
        "<a href=\"https://colab.research.google.com/github/aman77068/week1-Python-cipherschool/blob/main/week1_class13.ipynb\" target=\"_parent\"><img src=\"https://colab.research.google.com/assets/colab-badge.svg\" alt=\"Open In Colab\"/></a>"
      ]
    },
    {
      "cell_type": "code",
      "execution_count": 6,
      "metadata": {
        "colab": {
          "base_uri": "https://localhost:8080/"
        },
        "id": "0bW28odZuY91",
        "outputId": "6f05d871-f31e-4b9c-c8f5-a7f156adff44"
      },
      "outputs": [
        {
          "output_type": "stream",
          "name": "stdout",
          "text": [
            "*******print these following lines**********\n",
            "this is \\\\ double backslash\n",
            "this is //\\//\\//\\//\\ mountain\n",
            "he is\tawesome\n",
            "\\\" \\n \\t \\'\n"
          ]
        }
      ],
      "source": [
        "print(\"*******print these following lines**********\")\n",
        "print(\"this is \\\\\\\\ double backslash\")\n",
        "print(\"this is //\\\\//\\\\//\\\\//\\\\ mountain\")\n",
        "print(\"he is\\tawesome\")\n",
        "print(\"\\\\\\\" \\\\n \\\\t \\\\'\")"
      ]
    }
  ]
}