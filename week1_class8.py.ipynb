{
  "nbformat": 4,
  "nbformat_minor": 0,
  "metadata": {
    "colab": {
      "provenance": [],
      "authorship_tag": "ABX9TyMeanwM96vvSJ+mGR5Bhw9v",
      "include_colab_link": true
    },
    "kernelspec": {
      "name": "python3",
      "display_name": "Python 3"
    },
    "language_info": {
      "name": "python"
    }
  },
  "cells": [
    {
      "cell_type": "markdown",
      "metadata": {
        "id": "view-in-github",
        "colab_type": "text"
      },
      "source": [
        "<a href=\"https://colab.research.google.com/github/aman77068/week1-Python-cipherschool/blob/main/week1_class8.py.ipynb\" target=\"_parent\"><img src=\"https://colab.research.google.com/assets/colab-badge.svg\" alt=\"Open In Colab\"/></a>"
      ]
    },
    {
      "cell_type": "code",
      "execution_count": 19,
      "metadata": {
        "colab": {
          "base_uri": "https://localhost:8080/"
        },
        "id": "vVI7XjCfkar4",
        "outputId": "60c7c7b3-bb25-46c0-b597-e63468d8d490"
      },
      "outputs": [
        {
          "output_type": "stream",
          "name": "stdout",
          "text": [
            "hello\"hello\"world\n",
            "i'm harshit\n",
            "a \n",
            "c\n",
            "a\\b\n",
            "name\tHarshit\n"
          ]
        }
      ],
      "source": [
        "# escape sequences\n",
        "# use'\\' for single quote\n",
        "# and \"\\\" for double quote\n",
        "# \"\\\\\" to print backslash(\\)\n",
        "# \"\\n\" or new line\n",
        "# \"\\t\" for tab\n",
        "# \"\\b\" for back space\n",
        "print(\"hello\\\"hello\\\"world\")\n",
        "print('i\\'m harshit')\n",
        "print(\"a \\nc\")\n",
        "print(\"a\\\\b\")\n",
        "print(\"name\\tHarshit\")\n"
      ]
    }
  ]
}