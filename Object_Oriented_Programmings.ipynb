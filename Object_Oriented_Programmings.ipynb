{
  "nbformat": 4,
  "nbformat_minor": 0,
  "metadata": {
    "colab": {
      "provenance": [],
      "authorship_tag": "ABX9TyNQef72NZZZRcE73fg775AQ",
      "include_colab_link": true
    },
    "kernelspec": {
      "name": "python3",
      "display_name": "Python 3"
    },
    "language_info": {
      "name": "python"
    }
  },
  "cells": [
    {
      "cell_type": "markdown",
      "metadata": {
        "id": "view-in-github",
        "colab_type": "text"
      },
      "source": [
        "<a href=\"https://colab.research.google.com/github/aman77068/week1-Python-cipherschool/blob/main/Object_Oriented_Programmings.ipynb\" target=\"_parent\"><img src=\"https://colab.research.google.com/assets/colab-badge.svg\" alt=\"Open In Colab\"/></a>"
      ]
    },
    {
      "cell_type": "code",
      "execution_count": null,
      "metadata": {
        "id": "OoPsjJqCGZwF"
      },
      "outputs": [],
      "source": [
        "#object oriented programmings\n",
        "#1. Abstraction = hiding of erelevant expressions\n",
        "#2.Encapsulation = raping of all the informations under one roof ex. dictionary\n",
        "# 3.Polymorphism = (poly means many and morphism means form)many ways ex. bottle can be used in different ways or function\n",
        "#4.Inheritance = aquiring certain features ex. son aquires some features of his parent \n",
        "#class\n",
        "#object\n"
      ]
    },
    {
      "cell_type": "code",
      "source": [
        "class Car:\n",
        "  h=10\n",
        "\n",
        "tiago =Car()\n",
        "baleno = Car()\n",
        "\n",
        "print(tiago.h)#accessing of valuein the class through object\n",
        "print(baleno.h)"
      ],
      "metadata": {
        "colab": {
          "base_uri": "https://localhost:8080/"
        },
        "id": "Zqn8cZyWh_xl",
        "outputId": "b2dd666f-6dee-40bd-fc08-96de37a29059"
      },
      "execution_count": null,
      "outputs": [
        {
          "output_type": "stream",
          "name": "stdout",
          "text": [
            "10\n",
            "10\n"
          ]
        }
      ]
    },
    {
      "cell_type": "code",
      "source": [
        "class Student:\n",
        " def __init__(self,name,reg):\n",
        "  self.name=name\n",
        "  self.reg=reg\n",
        "\n",
        "\n",
        "\n",
        "s1=Student(\"Aman\",12220271)\n",
        "\n",
        "\n",
        "\n",
        "print(s1.name)\n",
        "print(s1.reg)\n",
        "\n",
        "\n",
        "\n",
        "\n",
        "\n",
        "\n"
      ],
      "metadata": {
        "colab": {
          "base_uri": "https://localhost:8080/"
        },
        "id": "mj5Nv_4WocBA",
        "outputId": "a3f80b79-f278-4cba-8aff-746079290269"
      },
      "execution_count": null,
      "outputs": [
        {
          "output_type": "stream",
          "name": "stdout",
          "text": [
            "Aman\n",
            "12220271\n"
          ]
        }
      ]
    },
    {
      "cell_type": "code",
      "source": [
        "class Student:\n",
        "  def __init__(self,name,reg):\n",
        "    self.name=name\n",
        "    self.reg=reg\n",
        "  def pr(self):\n",
        "    print(\"hello my name is\"+self.name)\n",
        "s1=Student(\"Aman\",12220271)\n",
        "s1.pr()\n"
      ],
      "metadata": {
        "colab": {
          "base_uri": "https://localhost:8080/"
        },
        "id": "BU7OCkmDz2pd",
        "outputId": "25fa4e5a-be31-47a9-9c72-d3090363daef"
      },
      "execution_count": null,
      "outputs": [
        {
          "output_type": "stream",
          "name": "stdout",
          "text": [
            "hello my name isAman\n"
          ]
        }
      ]
    },
    {
      "cell_type": "code",
      "source": [],
      "metadata": {
        "id": "gm0FoUn0tScR"
      },
      "execution_count": null,
      "outputs": []
    },
    {
      "cell_type": "code",
      "source": [],
      "metadata": {
        "id": "ILOgu7c2xB2g"
      },
      "execution_count": null,
      "outputs": []
    },
    {
      "cell_type": "markdown",
      "source": [
        "\n",
        "\n",
        "\n"
      ],
      "metadata": {
        "id": "q1rFXs6nihnX"
      }
    }
  ]
}